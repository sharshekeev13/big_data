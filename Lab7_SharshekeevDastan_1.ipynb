{
 "cells": [
  {
   "attachments": {},
   "cell_type": "markdown",
   "id": "f677bce5",
   "metadata": {},
   "source": [
    "<div style=\"display: flex; flex-direction: row; justify-content: center; width: 100%;\">\n",
    "    <div style=\"display: flex; flex-direction: column; width: 40%; justify-content: start;\">\n",
    "        <h1 style=\"color: #3949AB; font-weight: bold;\">Шаршекеев Дастан</h1>\n",
    "        <h2 style=\"font-weight: bold; font-style: italic;\">AIN-2-21</h2>\n",
    "        <h4 style=\"font-weight: normal; font-style: italic;\">Гений, миллиардер, плейбой, филантроп.</h4>\n",
    "    </div>\n",
    "    <img src=\"https://avatars.githubusercontent.com/u/100109594?v=4\" width=\"300\">\n",
    "</div>\n"
   ]
  },
  {
   "attachments": {},
   "cell_type": "markdown",
   "id": "2350a2ed",
   "metadata": {},
   "source": [
    "<h3 style=\"color:orange; font-weight: bold;\">Работа с текстовыми данными</h3>\n",
    "\n",
    "* ЗАДАНИЕ:\n",
    "1. Изучите материал лекции 12, проделайте пример, описанный в ходе работы.\n",
    "\n"
   ]
  },
  {
   "attachments": {},
   "cell_type": "markdown",
   "id": "610e6185",
   "metadata": {},
   "source": [
    "*Импорт всех зависимостей*"
   ]
  },
  {
   "cell_type": "code",
   "execution_count": 1,
   "id": "23676217",
   "metadata": {},
   "outputs": [],
   "source": [
    "from sklearn.datasets import load_files\n",
    "reviews_train = load_files('aclImdb/train')\n",
    "text_train, y_train = reviews_train.data, reviews_train.target"
   ]
  },
  {
   "cell_type": "code",
   "execution_count": 2,
   "id": "5333339d",
   "metadata": {},
   "outputs": [],
   "source": [
    "text_train = [doc.replace(b\"<br />\", b\" \") for doc in text_train]"
   ]
  },
  {
   "cell_type": "code",
   "execution_count": 3,
   "id": "a04f058f",
   "metadata": {},
   "outputs": [],
   "source": [
    "reviews_test = load_files(\"aclImdb/train\")\n",
    "text_test, y_train = reviews_test.data, reviews_test.target\n",
    "text_test = [doc.replace(b\"<br />\", b\" \") for doc in text_test]"
   ]
  },
  {
   "cell_type": "code",
   "execution_count": null,
   "id": "15e13a56",
   "metadata": {},
   "outputs": [],
   "source": [
    "from sklearn.feature_extraction.text import CountVectorizer\n",
    "\n",
    "\n",
    "vect = CountVectorizer(max_features=10000, max_df=.15)\n",
    "X = vect.fit_transform(text_train)"
   ]
  },
  {
   "cell_type": "code",
   "execution_count": null,
   "id": "9cee4170",
   "metadata": {},
   "outputs": [],
   "source": [
    "from sklearn.decomposition import LatentDirichletAllocation\n",
    "lda = LatentDirichletAllocation(n_components=10, learning_method=\"batch\", max_iter=10, random_state=0)\n",
    "\n",
    "document_topics = lda.fit_transform(X)"
   ]
  },
  {
   "cell_type": "code",
   "execution_count": null,
   "id": "8f71fe31",
   "metadata": {},
   "outputs": [],
   "source": [
    "lda.components_.shape"
   ]
  },
  {
   "cell_type": "code",
   "execution_count": null,
   "id": "977ff233",
   "metadata": {},
   "outputs": [],
   "source": [
    "import numpy as np\n",
    "\n",
    "sorting = np.argsort(lda.components_, axis=1)[:, ::-1]\n",
    "\n",
    "feature_names = np.array(vect.get_feature_names_out())\n"
   ]
  },
  {
   "cell_type": "code",
   "execution_count": null,
   "id": "9d06cbae",
   "metadata": {},
   "outputs": [],
   "source": [
    "import mglearn\n",
    "\n",
    "\n",
    "mglearn.tools.print_topics(topics=range(10), \n",
    "                           feature_names=feature_names, \n",
    "                           sorting=sorting, \n",
    "                           topics_per_chunk=5, \n",
    "                           n_words=10)\n",
    "\n"
   ]
  },
  {
   "cell_type": "code",
   "execution_count": null,
   "id": "78592b5f",
   "metadata": {},
   "outputs": [],
   "source": [
    "lda100 = LatentDirichletAllocation(n_components=100, learning_method=\"batch\",\n",
    "                                   max_iter=10, random_state=0)\n",
    "document_topics100 = lda100.fit_transform(X)\n"
   ]
  },
  {
   "cell_type": "code",
   "execution_count": null,
   "id": "d15c9009",
   "metadata": {},
   "outputs": [],
   "source": [
    "topics = np.array([7,16,24,25,28,36,37,45,51,53,54,63,89,97])\n",
    "\n",
    "sorting = np.argsort(lda100.components_, axis=1)[:, ::-1]\n",
    "feature_names = np.array(vect.get_feature_names_out())\n",
    "mglearn.tools.print_topics(\n",
    "    topics=topics, \n",
    "    feature_names=feature_names, \n",
    "    sorting=sorting, \n",
    "    topics_per_chunk=7, \n",
    "    n_words=20)"
   ]
  },
  {
   "cell_type": "code",
   "execution_count": null,
   "id": "6dec8881",
   "metadata": {},
   "outputs": [],
   "source": [
    "music = np.argsort(document_topics100[:, 45])[::-1]\n",
    "\n",
    "for i in music[:10]:\n",
    "    print(b\".\".join(text_train[i].split(b\".\")[:2]) + b\".n\")"
   ]
  },
  {
   "cell_type": "code",
   "execution_count": null,
   "id": "0142c3bf",
   "metadata": {},
   "outputs": [],
   "source": [
    "import matplotlib.pyplot as plt\n",
    "\n",
    "\n",
    "fig, ax = plt.subplots(1,2, figsize=(10,10))\n",
    "topic_names = [\"{:>2}\".format(i) + \" \".join(words) for i,words in enumerate(feature_names[sorting[:, :2]])]\n",
    "\n",
    "\n",
    "for col in [0,1]:\n",
    "    start = col * 50\n",
    "    end = (col + 1) * 50\n",
    "    ax[col].barh(np.arange(50), np.sum(document_topics100, axis=0)[start:end])\n",
    "    ax[col].set_yticks(np.arange(50))\n",
    "    ax[col].yticklabels(topic_names[start:end], ha=\"left\", va=\"top\")\n",
    "    ax[col].invert_yaxis()\n",
    "    ax[col].set_xlim(0,2000)\n",
    "    yax = ax[col].get_yaxis()\n",
    "    yax.set_tick_params(pad=130)\n",
    "\n",
    "plt.tight_layout()\n",
    "\n",
    "\n",
    "\n"
   ]
  }
 ],
 "metadata": {
  "kernelspec": {
   "display_name": "Python 3",
   "language": "python",
   "name": "python3"
  },
  "language_info": {
   "codemirror_mode": {
    "name": "ipython",
    "version": 3
   },
   "file_extension": ".py",
   "mimetype": "text/x-python",
   "name": "python",
   "nbconvert_exporter": "python",
   "pygments_lexer": "ipython3",
   "version": "3.11.5"
  }
 },
 "nbformat": 4,
 "nbformat_minor": 5
}
